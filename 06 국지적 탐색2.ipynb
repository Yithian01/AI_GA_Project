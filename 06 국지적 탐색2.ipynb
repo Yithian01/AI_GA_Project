{
 "cells": [
  {
   "cell_type": "markdown",
   "metadata": {},
   "source": [
    " 코드는 GitHub aima-python의 코드를 기반으로 일부 수정한 것임."
   ]
  },
  {
   "cell_type": "code",
   "execution_count": 1,
   "metadata": {},
   "outputs": [],
   "source": [
    "# 탐색을 통한 문제 해결을 위해 필요한 기반 구조들은 search_common.py에 코드를 옮겨서 저장해뒀음.\n",
    "from search_common import *"
   ]
  },
  {
   "cell_type": "markdown",
   "metadata": {},
   "source": [
    "## AND-OR 탐색\n",
    "비결정적 환경에서 조건부 계획(전략) 형태의 해결책을 찾는 탐색.\n",
    "\n",
    "비결정적 문제의 전이 모델은 결과 상태 하나가 아니라 가능한 결과 상태들의 집합을 리턴함.\n",
    "\n",
    "해결책은 다음 두 가지 요소로 구성됨.\n",
    "- 행동 시퀀스(리스트): 예: `['forward', 'suck']`\n",
    "- 조건별 행동(딕셔너리): 예: `{5: ['backward', 'suck'], 7: []}`"
   ]
  },
  {
   "cell_type": "code",
   "execution_count": 2,
   "metadata": {},
   "outputs": [],
   "source": [
    "def and_or_search(problem):\n",
    "    \"\"\"비결정적 행동을 갖는 문제에 대해 조건부 계획을 찾아냄.\"\"\"\n",
    "    return or_search(problem, problem.initial, [])\n",
    "\n",
    "def or_search(problem, state, path):\n",
    "    \"\"\"에이전트 자신이 행동을 선택하여 분기.\n",
    "    path에 있는 상태들을 반복하지 않으면서 state로부터 목표에 도달하는 행동 시퀀스 탐색.\"\"\"\n",
    "    if problem.is_goal(state): return []\n",
    "    if state in path: return failure  # 루프 체크\n",
    "    for action in problem.actions(state):\n",
    "        plan = and_search(problem, problem.results(state, action), [state] + path)\n",
    "        if plan != failure:\n",
    "            return [action] + plan\n",
    "    return failure\n",
    "\n",
    "def and_search(problem, states, path):\n",
    "    \"\"\"각 행동의 결과를 환경이 선택하여 분기.\n",
    "    처할 수 있는 모든 가능한 상태들에 대한 계획 리턴.\"\"\"\n",
    "    if len(states) == 1: \n",
    "        return or_search(problem, next(iter(states)), path)\n",
    "    plan = {}\n",
    "    for s in states:\n",
    "        plan[s] = or_search(problem, s, path)\n",
    "        if plan[s] == failure: return failure\n",
    "    return [plan]"
   ]
  },
  {
   "cell_type": "markdown",
   "metadata": {},
   "source": [
    "## 비결정적 문제 해결: 변덕스러운 청소 로봇"
   ]
  },
  {
   "cell_type": "code",
   "execution_count": 3,
   "metadata": {},
   "outputs": [],
   "source": [
    "class MultiGoalProblem(Problem):\n",
    "    \"\"\"목표가 여러 개인 문제 정의 클래스.\"\"\"\n",
    "    def __init__(self, initial=None, goals=(), **kwds): \n",
    "        self.__dict__.update(initial=initial, goals=goals, **kwds)\n",
    "\n",
    "    def is_goal(self, state): return state in self.goals\n",
    "\n",
    "\n",
    "class ErraticVacuum(MultiGoalProblem):\n",
    "    \"\"\"2개의 타일 공간에서 변덕스럽게 행동하는 청소 로봇 문제.\n",
    "    지저분한 타일에서 흡입 행동 -> 현재 위치 청소 or 두 위치 모두 청소.\n",
    "    깨끗한 타일에서 흡입 행동 -> 아무 일도 일어나지 않음 or 현재 위치에 먼지를 쏟아냄.\n",
    "    이동 행동은 결정적임.\n",
    "    상태는 교재 그림과 같이 8개의 번호로 표시함.\"\"\"\n",
    "    \n",
    "    def actions(self, state): \n",
    "        return ['suck', 'left', 'right']\n",
    "    \n",
    "    def results(self, state, action): return self.table[action][state]\n",
    "    \n",
    "    table = {'suck': {1:{5,7}, 2:{4,8}, 3:{7}, 4:{2,4}, 5:{1,5}, 6:{8}, 7:{3,7}, 8:{6,8}},\n",
    "             'left': {1:{1}, 2:{1}, 3:{3}, 4:{3}, 5:{5}, 6:{5}, 7:{7}, 8:{7}},\n",
    "             'right': {1:{2}, 2:{2}, 3:{4}, 4:{4}, 5:{6}, 6:{6}, 7:{8}, 8:{8}}}"
   ]
  },
  {
   "cell_type": "code",
   "execution_count": 4,
   "metadata": {},
   "outputs": [
    {
     "data": {
      "text/plain": [
       "['suck', {5: ['right', 'suck'], 7: []}]"
      ]
     },
     "execution_count": 4,
     "metadata": {},
     "output_type": "execute_result"
    }
   ],
   "source": [
    "and_or_search(ErraticVacuum(1, {7, 8}))"
   ]
  },
  {
   "cell_type": "code",
   "execution_count": 5,
   "metadata": {},
   "outputs": [
    {
     "data": {
      "text/plain": [
       "{1: ['suck', {5: ['right', 'suck'], 7: []}],\n",
       " 2: ['suck', {8: [], 4: ['left', 'suck']}],\n",
       " 3: ['suck'],\n",
       " 4: ['left', 'suck'],\n",
       " 5: ['right', 'suck'],\n",
       " 6: ['suck'],\n",
       " 7: [],\n",
       " 8: []}"
      ]
     },
     "execution_count": 5,
     "metadata": {},
     "output_type": "execute_result"
    }
   ],
   "source": [
    "# 초기 상태별 탐색 결과\n",
    "{s: and_or_search(ErraticVacuum(s, {7,8})) for s in range(1, 9)}"
   ]
  },
  {
   "cell_type": "code",
   "execution_count": null,
   "metadata": {},
   "outputs": [],
   "source": []
  }
 ],
 "metadata": {
  "kernelspec": {
   "display_name": "Python 3 (ipykernel)",
   "language": "python",
   "name": "python3"
  },
  "language_info": {
   "codemirror_mode": {
    "name": "ipython",
    "version": 3
   },
   "file_extension": ".py",
   "mimetype": "text/x-python",
   "name": "python",
   "nbconvert_exporter": "python",
   "pygments_lexer": "ipython3",
   "version": "3.9.18"
  }
 },
 "nbformat": 4,
 "nbformat_minor": 4
}
